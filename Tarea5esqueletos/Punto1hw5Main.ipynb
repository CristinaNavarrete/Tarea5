{
 "metadata": {
  "name": "Punto1hw5Main"
 },
 "nbformat": 3,
 "nbformat_minor": 0,
 "worksheets": [
  {
   "cells": [
    {
     "cell_type": "code",
     "collapsed": false,
     "input": [
      "\n",
      "\n",
      "\"\"\"\n",
      "Analisis de fourier de unos encefalogramas\n",
      "\n",
      "Autores:\n",
      " Stefano Lacorazza\n",
      " Cristina Navarrete\n",
      "\"\"\"\n",
      "import matplotlib.pyplot as plt\n",
      "import numpy as np\n",
      "from numpy import pi\n",
      "import Esqueleto_Funciones_punto_1 as ms\n",
      "%pylab inline\n",
      "\n",
      "\n",
      "def main():\n",
      "    \"\"\"\n",
      "    Crea el espectro de potencias de un archivo\n",
      "    \"\"\"\n",
      "    \n",
      "   \n",
      "    inputfile='in.dat'\n",
      "    outputdile='out.dat'\n",
      "    figure_name='pp_figures'\n",
      "\n",
      "\n",
      "    #Carga los datos\n",
      "    datos = ms.cargarDatos(inputfile)\n",
      "    \n",
      "    #Lee cuantas filas hay\n",
      "    n=size(datos)\n",
      "\n",
      "    #Obtiene los espectros de frecuencias, los de potencias y los grafica\n",
      "    for x in range(0, n):\n",
      "        frecuencias=ms.transformada(datos, i)\n",
      "        espectro=ms.espectro(frecuencias)\n",
      "        graficar(espectro)\n",
      "        \n",
      "    #Obtiene los espectros de frecuencias, los de potencias, saca los 10 maximos y los grafica\n",
      "    for x in range(0, n):\n",
      "        frecuencias=ms.transformada(datos, i)\n",
      "        espectro=ms.espectro(frecuencias)\n",
      "        maximos=ms.nMaximos(espectro,10)\n",
      "        funcion=invfft(maximos)\n",
      "        freqs=fftfreq(n,1)\n",
      "        ms.graficar(funcion)\n",
      "        return chiCuadrado(datos, funcion, i)\n",
      "    \n",
      "\n",
      "\n",
      "if __name__ == \"__main__\":\n",
      "    main()\n",
      "\n",
      "\n"
     ],
     "language": "python",
     "metadata": {},
     "outputs": [
      {
       "ename": "ImportError",
       "evalue": "No module named Esqueleto_Funciones_punto_1",
       "output_type": "pyerr",
       "traceback": [
        "\u001b[0;31m---------------------------------------------------------------------------\u001b[0m\n\u001b[0;31mImportError\u001b[0m                               Traceback (most recent call last)",
        "\u001b[0;32m<ipython-input-5-e9ee0bcf95fa>\u001b[0m in \u001b[0;36m<module>\u001b[0;34m()\u001b[0m\n\u001b[1;32m     11\u001b[0m \u001b[0;32mimport\u001b[0m \u001b[0mnumpy\u001b[0m \u001b[0;32mas\u001b[0m \u001b[0mnp\u001b[0m\u001b[0;34m\u001b[0m\u001b[0m\n\u001b[1;32m     12\u001b[0m \u001b[0;32mfrom\u001b[0m \u001b[0mnumpy\u001b[0m \u001b[0;32mimport\u001b[0m \u001b[0mpi\u001b[0m\u001b[0;34m\u001b[0m\u001b[0m\n\u001b[0;32m---> 13\u001b[0;31m \u001b[0;32mimport\u001b[0m \u001b[0mEsqueleto_Funciones_punto_1\u001b[0m \u001b[0;32mas\u001b[0m \u001b[0mms\u001b[0m\u001b[0;34m\u001b[0m\u001b[0m\n\u001b[0m\u001b[1;32m     14\u001b[0m \u001b[0mget_ipython\u001b[0m\u001b[0;34m(\u001b[0m\u001b[0;34m)\u001b[0m\u001b[0;34m.\u001b[0m\u001b[0mmagic\u001b[0m\u001b[0;34m(\u001b[0m\u001b[0;34mu'pylab inline'\u001b[0m\u001b[0;34m)\u001b[0m\u001b[0;34m\u001b[0m\u001b[0m\n\u001b[1;32m     15\u001b[0m \u001b[0;34m\u001b[0m\u001b[0m\n",
        "\u001b[0;31mImportError\u001b[0m: No module named Esqueleto_Funciones_punto_1"
       ]
      }
     ],
     "prompt_number": 5
    },
    {
     "cell_type": "code",
     "collapsed": false,
     "input": [],
     "language": "python",
     "metadata": {},
     "outputs": []
    }
   ],
   "metadata": {}
  }
 ]
}